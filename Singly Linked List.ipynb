{
 "cells": [
  {
   "cell_type": "code",
   "execution_count": 1,
   "id": "aa1b5e54",
   "metadata": {},
   "outputs": [],
   "source": [
    "class node: \n",
    "    def __init__(self, data=None, next=None):\n",
    "        self.data = data\n",
    "        self.next = next \n",
    "        "
   ]
  },
  {
   "cell_type": "code",
   "execution_count": 2,
   "id": "952f7f87",
   "metadata": {},
   "outputs": [],
   "source": [
    "class sll:\n",
    "    def __init__(self, start=None):\n",
    "        self.start=start\n",
    "    \n",
    "    def empty(self):\n",
    "        return self.start == None\n",
    "    \n",
    "    def insert_at_Start(self,data):\n",
    "        node1=node(data,self.start)\n",
    "        self.start=node1\n",
    "    \n",
    "    def insert_at_last(self,data):\n",
    "        node2=node(data)\n",
    "        if not self.empty():\n",
    "            temp=self.start\n",
    "            while temp.next is not None:\n",
    "                temp=temp.next\n",
    "            temp.next=node2\n",
    "        else :\n",
    "            self.start=node2\n",
    "    \n",
    "    def valueSearch(self,value):\n",
    "        temp=self.start\n",
    "        while temp is not None:\n",
    "            if temp.data == value:\n",
    "                return temp\n",
    "            temp = temp.next\n",
    "    \n",
    "    def insertAfter(self,temp,data):\n",
    "        if temp is not None:\n",
    "            node3=node(data,temp.next)\n",
    "            temp.next=node3\n",
    "            \n",
    "    \n",
    "    def printList(self):\n",
    "        temp=self.start\n",
    "        while temp is not None:\n",
    "            print(temp.data, end=\" \")\n",
    "            temp=temp.next \n",
    "    \n",
    "    # Delete Functions \n",
    "    \n",
    "    def delete_first(self):\n",
    "        if self.start is not None:\n",
    "            self.start=self.start.next\n",
    "            \n",
    "    def delete_last(self):\n",
    "        if self.start is None:  # Empty list\n",
    "            pass\n",
    "        elif self.start.next is None:  # Only one node\n",
    "            self.start = None\n",
    "        else:\n",
    "            temp = self.start\n",
    "            while temp.next.next is not None:\n",
    "                temp = temp.next\n",
    "            temp.next = None\n",
    "            \n",
    "    def deleteByvalue(self,value):\n",
    "        if self.start is None: #emptylist\n",
    "            pass\n",
    "        elif self.start.next is None: #1value\n",
    "            if self.start.data == value:\n",
    "                self.start=None\n",
    "        else:\n",
    "            temp=self.start #2values\n",
    "            if temp.data==value:\n",
    "                self.start=temp.next\n",
    "            else: #2+ values\n",
    "                while temp.next is not None:\n",
    "                    if temp.next.data==value:\n",
    "                        temp.next=temp.next.next\n",
    "                        break \n",
    "                    temp=temp.next\n",
    "                \n",
    "    "
   ]
  },
  {
   "cell_type": "code",
   "execution_count": null,
   "id": "2cdfe782",
   "metadata": {},
   "outputs": [],
   "source": []
  },
  {
   "cell_type": "code",
   "execution_count": null,
   "id": "cea5971b",
   "metadata": {},
   "outputs": [],
   "source": []
  },
  {
   "cell_type": "code",
   "execution_count": null,
   "id": "c679bce9",
   "metadata": {},
   "outputs": [],
   "source": []
  },
  {
   "cell_type": "code",
   "execution_count": null,
   "id": "2de29202",
   "metadata": {},
   "outputs": [],
   "source": []
  },
  {
   "cell_type": "code",
   "execution_count": null,
   "id": "eec97960",
   "metadata": {},
   "outputs": [],
   "source": []
  },
  {
   "cell_type": "code",
   "execution_count": 3,
   "id": "6739806d",
   "metadata": {},
   "outputs": [
    {
     "name": "stdout",
     "output_type": "stream",
     "text": [
      "10 88 20 35 "
     ]
    }
   ],
   "source": [
    "mylist = sll()\n",
    "mylist.insert_at_Start(20)\n",
    "mylist.insert_at_Start(10)\n",
    "mylist.insert_at_last(35)\n",
    "mylist.insertAfter(mylist.valueSearch(10),88)\n",
    "mylist.printList()"
   ]
  },
  {
   "cell_type": "code",
   "execution_count": null,
   "id": "81023f3c",
   "metadata": {},
   "outputs": [],
   "source": []
  },
  {
   "cell_type": "code",
   "execution_count": 4,
   "id": "04516a07",
   "metadata": {},
   "outputs": [
    {
     "name": "stdout",
     "output_type": "stream",
     "text": [
      "88 20 35 "
     ]
    }
   ],
   "source": [
    "mylist.deleteByvalue(10)\n",
    "mylist.printList()"
   ]
  },
  {
   "cell_type": "code",
   "execution_count": null,
   "id": "d03e1cec",
   "metadata": {},
   "outputs": [],
   "source": []
  },
  {
   "cell_type": "code",
   "execution_count": null,
   "id": "4fbc5e69",
   "metadata": {},
   "outputs": [],
   "source": []
  },
  {
   "cell_type": "code",
   "execution_count": null,
   "id": "668ec9b5",
   "metadata": {},
   "outputs": [],
   "source": []
  },
  {
   "cell_type": "code",
   "execution_count": null,
   "id": "045467ca",
   "metadata": {},
   "outputs": [],
   "source": []
  },
  {
   "cell_type": "code",
   "execution_count": null,
   "id": "7bceb840",
   "metadata": {},
   "outputs": [],
   "source": []
  },
  {
   "cell_type": "code",
   "execution_count": null,
   "id": "b0a2a8c8",
   "metadata": {},
   "outputs": [],
   "source": []
  },
  {
   "cell_type": "code",
   "execution_count": null,
   "id": "a5ce7e0e",
   "metadata": {},
   "outputs": [],
   "source": []
  },
  {
   "cell_type": "code",
   "execution_count": null,
   "id": "e0b5ec3f",
   "metadata": {},
   "outputs": [],
   "source": []
  },
  {
   "cell_type": "code",
   "execution_count": null,
   "id": "805a874f",
   "metadata": {},
   "outputs": [],
   "source": []
  },
  {
   "cell_type": "code",
   "execution_count": null,
   "id": "ddca29cf",
   "metadata": {},
   "outputs": [],
   "source": []
  },
  {
   "cell_type": "code",
   "execution_count": null,
   "id": "9fd3054f",
   "metadata": {},
   "outputs": [],
   "source": []
  },
  {
   "cell_type": "code",
   "execution_count": null,
   "id": "bd647bbd",
   "metadata": {},
   "outputs": [],
   "source": []
  },
  {
   "cell_type": "code",
   "execution_count": null,
   "id": "e4d18884",
   "metadata": {},
   "outputs": [],
   "source": []
  },
  {
   "cell_type": "code",
   "execution_count": null,
   "id": "f9662a6a",
   "metadata": {},
   "outputs": [],
   "source": []
  },
  {
   "cell_type": "code",
   "execution_count": null,
   "id": "65635201",
   "metadata": {},
   "outputs": [],
   "source": []
  },
  {
   "cell_type": "code",
   "execution_count": null,
   "id": "854f891c",
   "metadata": {},
   "outputs": [],
   "source": []
  },
  {
   "cell_type": "code",
   "execution_count": null,
   "id": "3e8c9461",
   "metadata": {},
   "outputs": [],
   "source": []
  },
  {
   "cell_type": "code",
   "execution_count": null,
   "id": "293bb1e4",
   "metadata": {},
   "outputs": [],
   "source": []
  },
  {
   "cell_type": "code",
   "execution_count": null,
   "id": "2d5b4948",
   "metadata": {},
   "outputs": [],
   "source": []
  },
  {
   "cell_type": "code",
   "execution_count": null,
   "id": "674adc09",
   "metadata": {},
   "outputs": [],
   "source": []
  },
  {
   "cell_type": "code",
   "execution_count": null,
   "id": "50a03173",
   "metadata": {},
   "outputs": [],
   "source": []
  }
 ],
 "metadata": {
  "kernelspec": {
   "display_name": "Python 3 (ipykernel)",
   "language": "python",
   "name": "python3"
  },
  "language_info": {
   "codemirror_mode": {
    "name": "ipython",
    "version": 3
   },
   "file_extension": ".py",
   "mimetype": "text/x-python",
   "name": "python",
   "nbconvert_exporter": "python",
   "pygments_lexer": "ipython3",
   "version": "3.10.9"
  }
 },
 "nbformat": 4,
 "nbformat_minor": 5
}
