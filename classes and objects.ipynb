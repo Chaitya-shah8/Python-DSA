{
 "cells": [
  {
   "cell_type": "code",
   "execution_count": 1,
   "id": "67471467",
   "metadata": {},
   "outputs": [],
   "source": [
    "#class creation \n",
    "class Car: \n",
    "    def __init__(self,make,model,year):\n",
    "        self.make=make\n",
    "        self.model=model\n",
    "        self.year=year\n",
    "    def display_info(self):\n",
    "        return f\"This car is a {self.year} {self.make} {self.model}.\"\n",
    "    "
   ]
  },
  {
   "cell_type": "code",
   "execution_count": 2,
   "id": "147a5187",
   "metadata": {},
   "outputs": [],
   "source": [
    "#object creation \n",
    "car1 = Car(\"Toyota\", \"Camry\", 2020)\n",
    "car2 = Car(\"Tesla\", \"Model S\", 2022)"
   ]
  },
  {
   "cell_type": "code",
   "execution_count": 3,
   "id": "f22fe159",
   "metadata": {},
   "outputs": [
    {
     "name": "stdout",
     "output_type": "stream",
     "text": [
      "This car is a 2020 Toyota Camry.\n",
      "This car is a 2022 Tesla Model S.\n"
     ]
    }
   ],
   "source": [
    "print(car1.display_info())  \n",
    "print(car2.display_info())"
   ]
  },
  {
   "cell_type": "code",
   "execution_count": null,
   "id": "223d2d1f",
   "metadata": {},
   "outputs": [],
   "source": []
  },
  {
   "cell_type": "code",
   "execution_count": 12,
   "id": "a1acea1a",
   "metadata": {},
   "outputs": [
    {
     "name": "stdout",
     "output_type": "stream",
     "text": [
      "<class '__main__.Test'> 5\n",
      "hello\n"
     ]
    }
   ],
   "source": [
    "class Test:\n",
    "    x=5\n",
    "    def __init__(self,a,b):\n",
    "        self.a=a\n",
    "        self.b=b\n",
    "    def show(self):\n",
    "        print(self.a, self.b)\n",
    "    \n",
    "    @staticmethod\n",
    "    def f2():\n",
    "        print(\"hello\")\n",
    "    \n",
    "    @classmethod\n",
    "    def f3(cls):\n",
    "        print(cls,cls.x)"
   ]
  },
  {
   "cell_type": "code",
   "execution_count": 9,
   "id": "c35fd8e0",
   "metadata": {},
   "outputs": [],
   "source": [
    "t1=Test(3,4)\n",
    "t2=Test(5,6)"
   ]
  },
  {
   "cell_type": "code",
   "execution_count": 10,
   "id": "c9359d71",
   "metadata": {},
   "outputs": [
    {
     "name": "stdout",
     "output_type": "stream",
     "text": [
      "3 4\n",
      "5 6\n"
     ]
    }
   ],
   "source": [
    "t1.show()\n",
    "t2.show()\n",
    "\n",
    "    "
   ]
  },
  {
   "cell_type": "code",
   "execution_count": 15,
   "id": "d44eee1b",
   "metadata": {},
   "outputs": [
    {
     "name": "stdout",
     "output_type": "stream",
     "text": [
      "<class '__main__.Test'> 5\n"
     ]
    }
   ],
   "source": [
    "Test.f3()\n"
   ]
  },
  {
   "cell_type": "code",
   "execution_count": 14,
   "id": "f0dc7525",
   "metadata": {},
   "outputs": [
    {
     "name": "stdout",
     "output_type": "stream",
     "text": [
      "hello\n"
     ]
    }
   ],
   "source": [
    "Test.f2()"
   ]
  },
  {
   "cell_type": "code",
   "execution_count": null,
   "id": "763952a4",
   "metadata": {},
   "outputs": [],
   "source": []
  },
  {
   "cell_type": "code",
   "execution_count": 26,
   "id": "9fc4e929",
   "metadata": {},
   "outputs": [],
   "source": []
  },
  {
   "cell_type": "code",
   "execution_count": 30,
   "id": "aeaff145",
   "metadata": {},
   "outputs": [],
   "source": [
    "class Employee:\n",
    "    def __init__(self, eid=None, name=None, salary=None):\n",
    "        self.eid = eid\n",
    "        self.name = name\n",
    "        self.salary = salary\n",
    "   \n",
    "    # setters\n",
    "    def set_eid(self, eid): \n",
    "        self.eid = eid\n",
    "        \n",
    "    def set_name(self, name): \n",
    "        self.name = name\n",
    "        \n",
    "    def set_salary(self, salary): \n",
    "        self.salary = salary\n",
    "    \n",
    "    # getters\n",
    "    def get_eid(self): \n",
    "        return self.eid\n",
    "    \n",
    "    def get_name(self): \n",
    "        return self.name\n",
    "    \n",
    "    def get_salary(self): \n",
    "        return self.salary  "
   ]
  },
  {
   "cell_type": "code",
   "execution_count": 37,
   "id": "f394b58e",
   "metadata": {},
   "outputs": [
    {
     "name": "stdout",
     "output_type": "stream",
     "text": [
      "jake 1\n"
     ]
    }
   ],
   "source": [
    "e1 = Employee()\n",
    "e2 = Employee(1, \"rahul\", \"40k\")\n",
    "e1.set_eid(2)\n",
    "e1.set_name(\"jake\")\n",
    "e1.set_salary(\"10k\")\n",
    "print(e1.get_name(), e2.get_eid())"
   ]
  },
  {
   "cell_type": "code",
   "execution_count": null,
   "id": "c8d9b15f",
   "metadata": {},
   "outputs": [],
   "source": []
  },
  {
   "cell_type": "code",
   "execution_count": null,
   "id": "12681116",
   "metadata": {},
   "outputs": [],
   "source": []
  },
  {
   "cell_type": "code",
   "execution_count": null,
   "id": "c5ecbe9c",
   "metadata": {},
   "outputs": [],
   "source": []
  },
  {
   "cell_type": "code",
   "execution_count": null,
   "id": "22d8170a",
   "metadata": {},
   "outputs": [],
   "source": []
  },
  {
   "cell_type": "code",
   "execution_count": null,
   "id": "b57c0619",
   "metadata": {},
   "outputs": [],
   "source": []
  },
  {
   "cell_type": "code",
   "execution_count": null,
   "id": "bb823b3a",
   "metadata": {},
   "outputs": [],
   "source": []
  },
  {
   "cell_type": "code",
   "execution_count": null,
   "id": "21175465",
   "metadata": {},
   "outputs": [],
   "source": []
  },
  {
   "cell_type": "code",
   "execution_count": null,
   "id": "d3408cda",
   "metadata": {},
   "outputs": [],
   "source": []
  },
  {
   "cell_type": "code",
   "execution_count": null,
   "id": "8a1893a0",
   "metadata": {},
   "outputs": [],
   "source": []
  },
  {
   "cell_type": "code",
   "execution_count": null,
   "id": "0f9b4eee",
   "metadata": {},
   "outputs": [],
   "source": []
  },
  {
   "cell_type": "code",
   "execution_count": null,
   "id": "81e5f837",
   "metadata": {},
   "outputs": [],
   "source": []
  }
 ],
 "metadata": {
  "kernelspec": {
   "display_name": "Python 3 (ipykernel)",
   "language": "python",
   "name": "python3"
  },
  "language_info": {
   "codemirror_mode": {
    "name": "ipython",
    "version": 3
   },
   "file_extension": ".py",
   "mimetype": "text/x-python",
   "name": "python",
   "nbconvert_exporter": "python",
   "pygments_lexer": "ipython3",
   "version": "3.10.9"
  }
 },
 "nbformat": 4,
 "nbformat_minor": 5
}
